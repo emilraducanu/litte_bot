{
 "cells": [
  {
   "cell_type": "code",
   "execution_count": null,
   "metadata": {},
   "outputs": [],
   "source": [
    "# Unprocessed files\n",
    "\n",
    "## Prose\n",
    "### moliere_fourberiesdescapin.xml\n",
    "### moliere_precieusesridicules.xml\n",
    "### moliere_sicilien.xml\n",
    "### moliere_maladeimaginaire.xml\n",
    "### moliere_comtesseescarbagnas.xml\n",
    "\n",
    "---> 33                     df = pd.concat([df, pd.DataFrame([[tmp_lines[i], tmp_lines[i+1]]], columns= ['Speaker 1', 'Speaker 2'])], ignore_index=True)\n",
    "     34 \n",
    "     35             sys.stdout.write(f\"\\nFile converted\\n\")\n",
    "\n",
    "IndexError: list index out of range\n",
    "\n",
    "\n",
    "## Verse\n",
    "###"
   ]
  },
  {
   "cell_type": "code",
   "execution_count": 9,
   "metadata": {},
   "outputs": [],
   "source": [
    "#!/usr/bin/env python3\n",
    "\n",
    "import sys\n",
    "import os\n",
    "import lxml.etree as etree\n",
    "import pandas as pd"
   ]
  },
  {
   "cell_type": "code",
   "execution_count": 10,
   "metadata": {},
   "outputs": [],
   "source": [
    "def prose_XML_to_CSV(input_XML_file):\n",
    "\n",
    "    \"\"\"Conversion of an XML file into a CSV file\n",
    "    \n",
    "    This function converts a Molière's prose play XML format into a CSV file.\n",
    "    The output CSV has two columns. Each row has the line of Speaker 1\n",
    "    with the response of Speaker 2.\n",
    "    XML files come from http://dramacode.github.io/moliere/\n",
    "    \n",
    "    Parameter: 'input_XML_file' Molière's play in XML format, TEI edition.\n",
    "    \n",
    "    Retrun: CSV file containing the dialogues.\n",
    "    \"\"\"\n",
    "\n",
    "\n",
    "    with open(input_XML_file) as f:\n",
    "            \n",
    "            sys.stdout.write(f\"\\nOpen file: {input_XML_file}\")\n",
    "            tmp_lines = []\n",
    "            df = pd.DataFrame(index=None, columns= ['Speaker 1', 'Speaker 2'])\n",
    "\n",
    "            # Parsing file into an Element tree\n",
    "            tree = etree.parse(f)\n",
    "            root = tree.getroot()\n",
    "            \n",
    "            # Adding lines to a list\n",
    "            for line in root.findall(\".//p\"):\n",
    "                    if '<p/>' not in str(etree.tostring(line)):\n",
    "                            tmp_lines.append(line.text)\n",
    "               \n",
    "            # Distributing lines into a 2-columns dataframe\n",
    "            for i in range(0, len(tmp_lines), 2) :\n",
    "                    df = pd.concat([df, pd.DataFrame([[tmp_lines[i], tmp_lines[i+1]]], columns= ['Speaker 1', 'Speaker 2'])], ignore_index=True)\n",
    "\n",
    "            sys.stdout.write(f\"\\nFile converted\\n\")\n",
    "\n",
    "    return df.to_csv('CSV_format/Prose/'+input_XML_file.replace('.xml', '.csv'))"
   ]
  },
  {
   "cell_type": "code",
   "execution_count": 17,
   "metadata": {},
   "outputs": [
    {
     "name": "stdout",
     "output_type": "stream",
     "text": [
      "\n",
      "Open file: moliere_amourmedecin.xml\n",
      "File converted\n",
      "\n",
      "Open file: moliere_amantsmagnifiques.xml\n",
      "File converted\n",
      "\n",
      "Open file: moliere_medecinmalgrelui.xml\n",
      "File converted\n",
      "\n",
      "Open file: moliere_monsieurpourceaugnac.xml\n",
      "File converted\n",
      "\n",
      "Open file: moliere_impromptuversailles.xml\n",
      "File converted\n",
      "\n",
      "Open file: moliere_critiqueecoledesfemmes.xml\n",
      "File converted\n",
      "\n",
      "Open file: moliere_medecinvolant.xml\n",
      "File converted\n",
      "\n",
      "Open file: moliere_mariageforce.xml\n",
      "File converted\n",
      "\n",
      "Open file: moliere_jalousiedubarbouille.xml\n",
      "File converted\n",
      "\n",
      "Open file: moliere_avare.xml\n",
      "File converted\n",
      "\n",
      "Open file: moliere_bourgeoisgentilhomme.xml\n",
      "File converted\n",
      "\n",
      "Open file: moliere_georgedandin.xml\n",
      "File converted\n",
      "\n",
      "Open file: moliere_festindepierre.xml\n",
      "File converted\n"
     ]
    }
   ],
   "source": [
    "# Converting all plays in prose\n",
    "for filename in os.listdir(\".\"):\n",
    "    if filename.endswith(\".xml\"):\n",
    "        prose_XML_to_CSV(filename)"
   ]
  }
 ],
 "metadata": {
  "interpreter": {
   "hash": "011b5ae7b1f824e9e17532cf660bf76a4e5d222979bbdbc9a307afdbcbfac48c"
  },
  "kernelspec": {
   "display_name": "Python 3.8.8 ('base')",
   "language": "python",
   "name": "python3"
  },
  "language_info": {
   "codemirror_mode": {
    "name": "ipython",
    "version": 3
   },
   "file_extension": ".py",
   "mimetype": "text/x-python",
   "name": "python",
   "nbconvert_exporter": "python",
   "pygments_lexer": "ipython3",
   "version": "3.8.8"
  },
  "orig_nbformat": 4
 },
 "nbformat": 4,
 "nbformat_minor": 2
}
