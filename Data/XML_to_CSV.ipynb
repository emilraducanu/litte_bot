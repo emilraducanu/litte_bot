{
 "cells": [
  {
   "cell_type": "code",
   "execution_count": 1,
   "metadata": {},
   "outputs": [],
   "source": [
    "#!/usr/bin/env python3\n",
    "\n",
    "import sys\n",
    "import os\n",
    "import lxml.etree as etree\n",
    "import pandas as pd"
   ]
  },
  {
   "cell_type": "code",
   "execution_count": null,
   "metadata": {},
   "outputs": [],
   "source": [
    "def XML_dialogue_concatenater(input_XML_file, output_XML_file):\n",
    "\n",
    "    \"\"\"Concatenate dialogues a Moliere's play\n",
    "    \n",
    "    This function concatenate dialogues of a Molière's play (TEI edition,\n",
    "    XML format) into an XML file.\n",
    "    The output XML separates prose from verse dialogues.\n",
    "    Input XML files come from http://dramacode.github.io/moliere/\n",
    "    \n",
    "    Parameter: 'input_XML_file' Molière's play in XML format, TEI edition.\n",
    "               'output_XML_file' file containing the concatenated dialogues.\n",
    "    \n",
    "    Retrun: output_XML_file modified.\n",
    "    \"\"\"\n",
    "\n",
    "    with open(input_XML_file) as f1, open(output_XML_file) as f2:\n",
    "\n",
    "            # Parsing input and output files into Element trees and finding useful tags\n",
    "            input_tree = etree.parse(f1)\n",
    "            input_root = input_tree.getroot()\n",
    "            body = input_root.find('.//text').find('.//body')\n",
    "\n",
    "            output_tree = etree.parse(f2)\n",
    "            output_root = output_tree.getroot()\n",
    "            prose = output_root.find('.//prose')\n",
    "            verse = output_root.find('.//verse')\n",
    "\n",
    "            # Adding <p> tags into the output file (root > prose)\n",
    "            for element in body.findall('.//p'):\n",
    "                    if ('<p/>') not in str(etree.tostring(element)):\n",
    "                            prose.append(element)\n",
    "            prose.insert(0, etree.Element('end')) # Empty tag indicating the end of the play\n",
    "\n",
    "            # Adding <l> tags into the output file (root > verse)\n",
    "            for element in body.findall('.//l'):\n",
    "                    if ('<l/>') not in str(etree.tostring(element)):\n",
    "                            verse.append(element)\n",
    "            verse.insert(0, etree.Element('end')) # Empty tag indicating the end of the play\n",
    "            \n",
    "            return f2"
   ]
  },
  {
   "cell_type": "code",
   "execution_count": null,
   "metadata": {},
   "outputs": [],
   "source": [
    "# Concatenating dialogues of all plays\n",
    "for filename in os.listdir('.XML_format/Raw/Mixed'):\n",
    "    XML_dialogue_concatenater(filename, './XML_format/Precleaned/concatenated_dialogues.xml')\n",
    "\n",
    "for filename in os.listdir('.XML_format/Raw/Prose'):\n",
    "    if not ['medecinvolant','fourberiesdescapin', 'avare'] in filename: # These plays have a specific format (<s> tags)\n",
    "        XML_dialogue_concatenater(filename, './XML_format/Precleaned/concatenated_dialogues.xml')\n",
    "\n",
    "for filename in os.listdir('.XML_format/Raw/Verse'):\n",
    "    XML_dialogue_concatenater(filename, './XML_format/Precleaned/concatenated_dialogues.xml')"
   ]
  }
 ],
 "metadata": {
  "interpreter": {
   "hash": "011b5ae7b1f824e9e17532cf660bf76a4e5d222979bbdbc9a307afdbcbfac48c"
  },
  "kernelspec": {
   "display_name": "Python 3.8.8 ('base')",
   "language": "python",
   "name": "python3"
  },
  "language_info": {
   "codemirror_mode": {
    "name": "ipython",
    "version": 3
   },
   "file_extension": ".py",
   "mimetype": "text/x-python",
   "name": "python",
   "nbconvert_exporter": "python",
   "pygments_lexer": "ipython3",
   "version": "3.8.8"
  },
  "orig_nbformat": 4
 },
 "nbformat": 4,
 "nbformat_minor": 2
}
