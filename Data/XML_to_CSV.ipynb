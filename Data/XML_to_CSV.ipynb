{
 "cells": [
  {
   "cell_type": "code",
   "execution_count": null,
   "metadata": {},
   "outputs": [],
   "source": [
    "# Unprocessed files\n",
    "\n",
    "## Prose\n",
    "### moliere_fourberiesdescapin.xml\n",
    "### moliere_precieusesridicules.xml\n",
    "### moliere_sicilien.xml\n",
    "### moliere_maladeimaginaire.xml\n",
    "### moliere_comtesseescarbagnas.xml\n",
    "\n",
    "---> 33                     df = pd.concat([df, pd.DataFrame([[tmp_lines[i], tmp_lines[i+1]]], columns= ['Speaker 1', 'Speaker 2'])], ignore_index=True)\n",
    "     34 \n",
    "     35             sys.stdout.write(f\"\\nFile converted\\n\")\n",
    "\n",
    "IndexError: list index out of range\n",
    "\n",
    "\n",
    "## Verse\n",
    "###"
   ]
  },
  {
   "cell_type": "code",
   "execution_count": 1,
   "metadata": {},
   "outputs": [],
   "source": [
    "#!/usr/bin/env python3\n",
    "\n",
    "import sys\n",
    "import os\n",
    "import lxml.etree as etree\n",
    "import pandas as pd"
   ]
  },
  {
   "cell_type": "code",
   "execution_count": 2,
   "metadata": {},
   "outputs": [],
   "source": [
    "def prose_XML_to_CSV(input_XML_file):\n",
    "\n",
    "    \"\"\"Conversion of an XML file into a CSV file\n",
    "    \n",
    "    This function converts a Molière's prose play XML format into a CSV file.\n",
    "    The output CSV has two columns. Each row has the line of Speaker 1\n",
    "    with the response of Speaker 2.\n",
    "    XML files come from http://dramacode.github.io/moliere/\n",
    "    \n",
    "    Parameter: 'input_XML_file' Molière's play in XML format, TEI edition.\n",
    "    \n",
    "    Retrun: CSV file containing the dialogues.\n",
    "    \"\"\"\n",
    "\n",
    "\n",
    "    with open(input_XML_file) as f:\n",
    "            \n",
    "            sys.stdout.write(f\"\\nOpen file: {input_XML_file}\")\n",
    "            tmp_lines = []\n",
    "            df = pd.DataFrame(index=None, columns= ['Speaker 1', 'Speaker 2'])\n",
    "\n",
    "            # Parsing file into an Element tree\n",
    "            tree = etree.parse(f)\n",
    "            root = tree.getroot()\n",
    "            \n",
    "            # Adding lines to a list\n",
    "            for line in root.findall(\".//p\"):\n",
    "                    if ('<p/>') not in str(etree.tostring(line)):\n",
    "                            tmp_lines.append(line.text)\n",
    "               \n",
    "            # Distributing lines into a 2-columns dataframe\n",
    "            for i in range(0, len(tmp_lines), 2) :\n",
    "                    df = pd.concat([df, pd.DataFrame([[tmp_lines[i], tmp_lines[i+1]]], columns= ['Speaker 1', 'Speaker 2'])], ignore_index=True)\n",
    "\n",
    "            sys.stdout.write(f\"\\nFile converted\\n\")\n",
    "\n",
    "    return df.to_csv('CSV_format/Prose/'+input_XML_file.replace('.xml', '.csv'))"
   ]
  },
  {
   "cell_type": "code",
   "execution_count": 3,
   "metadata": {},
   "outputs": [
    {
     "name": "stdout",
     "output_type": "stream",
     "text": [
      "\n",
      "Open file: moliere_amourmedecin.xml"
     ]
    },
    {
     "ename": "TypeError",
     "evalue": "unsupported operand type(s) for |: 'str' and 'str'",
     "output_type": "error",
     "traceback": [
      "\u001b[0;31m---------------------------------------------------------------------------\u001b[0m",
      "\u001b[0;31mTypeError\u001b[0m                                 Traceback (most recent call last)",
      "\u001b[0;32m<ipython-input-3-7f41487b08c6>\u001b[0m in \u001b[0;36m<module>\u001b[0;34m\u001b[0m\n\u001b[1;32m      2\u001b[0m \u001b[0;32mfor\u001b[0m \u001b[0mfilename\u001b[0m \u001b[0;32min\u001b[0m \u001b[0mos\u001b[0m\u001b[0;34m.\u001b[0m\u001b[0mlistdir\u001b[0m\u001b[0;34m(\u001b[0m\u001b[0;34m\".\"\u001b[0m\u001b[0;34m)\u001b[0m\u001b[0;34m:\u001b[0m\u001b[0;34m\u001b[0m\u001b[0;34m\u001b[0m\u001b[0m\n\u001b[1;32m      3\u001b[0m     \u001b[0;32mif\u001b[0m \u001b[0mfilename\u001b[0m\u001b[0;34m.\u001b[0m\u001b[0mendswith\u001b[0m\u001b[0;34m(\u001b[0m\u001b[0;34m\".xml\"\u001b[0m\u001b[0;34m)\u001b[0m\u001b[0;34m:\u001b[0m\u001b[0;34m\u001b[0m\u001b[0;34m\u001b[0m\u001b[0m\n\u001b[0;32m----> 4\u001b[0;31m         \u001b[0mprose_XML_to_CSV\u001b[0m\u001b[0;34m(\u001b[0m\u001b[0mfilename\u001b[0m\u001b[0;34m)\u001b[0m\u001b[0;34m\u001b[0m\u001b[0;34m\u001b[0m\u001b[0m\n\u001b[0m",
      "\u001b[0;32m<ipython-input-2-6018a1ab8a25>\u001b[0m in \u001b[0;36mprose_XML_to_CSV\u001b[0;34m(input_XML_file)\u001b[0m\n\u001b[1;32m     25\u001b[0m \u001b[0;34m\u001b[0m\u001b[0m\n\u001b[1;32m     26\u001b[0m             \u001b[0;31m# Adding lines to a list\u001b[0m\u001b[0;34m\u001b[0m\u001b[0;34m\u001b[0m\u001b[0;34m\u001b[0m\u001b[0m\n\u001b[0;32m---> 27\u001b[0;31m             \u001b[0;32mfor\u001b[0m \u001b[0mline\u001b[0m \u001b[0;32min\u001b[0m \u001b[0mroot\u001b[0m\u001b[0;34m.\u001b[0m\u001b[0mfindall\u001b[0m\u001b[0;34m(\u001b[0m\u001b[0;34m\".//p\"\u001b[0m \u001b[0;34m|\u001b[0m \u001b[0;34m\".//l\"\u001b[0m\u001b[0;34m)\u001b[0m\u001b[0;34m:\u001b[0m\u001b[0;34m\u001b[0m\u001b[0;34m\u001b[0m\u001b[0m\n\u001b[0m\u001b[1;32m     28\u001b[0m                     \u001b[0;32mif\u001b[0m \u001b[0;34m(\u001b[0m\u001b[0;34m'<p/>'\u001b[0m \u001b[0;34m|\u001b[0m \u001b[0;34m'<l/>'\u001b[0m\u001b[0;34m)\u001b[0m \u001b[0;32mnot\u001b[0m \u001b[0;32min\u001b[0m \u001b[0mstr\u001b[0m\u001b[0;34m(\u001b[0m\u001b[0metree\u001b[0m\u001b[0;34m.\u001b[0m\u001b[0mtostring\u001b[0m\u001b[0;34m(\u001b[0m\u001b[0mline\u001b[0m\u001b[0;34m)\u001b[0m\u001b[0;34m)\u001b[0m\u001b[0;34m:\u001b[0m\u001b[0;34m\u001b[0m\u001b[0;34m\u001b[0m\u001b[0m\n\u001b[1;32m     29\u001b[0m                             \u001b[0mtmp_lines\u001b[0m\u001b[0;34m.\u001b[0m\u001b[0mappend\u001b[0m\u001b[0;34m(\u001b[0m\u001b[0mline\u001b[0m\u001b[0;34m.\u001b[0m\u001b[0mtext\u001b[0m\u001b[0;34m)\u001b[0m\u001b[0;34m\u001b[0m\u001b[0;34m\u001b[0m\u001b[0m\n",
      "\u001b[0;31mTypeError\u001b[0m: unsupported operand type(s) for |: 'str' and 'str'"
     ]
    }
   ],
   "source": [
    "# Converting all plays in prose\n",
    "for filename in os.listdir(\".\"):\n",
    "    if filename.endswith(\".xml\"):\n",
    "        prose_XML_to_CSV(filename)"
   ]
  }
 ],
 "metadata": {
  "interpreter": {
   "hash": "011b5ae7b1f824e9e17532cf660bf76a4e5d222979bbdbc9a307afdbcbfac48c"
  },
  "kernelspec": {
   "display_name": "Python 3.8.8 ('base')",
   "language": "python",
   "name": "python3"
  },
  "language_info": {
   "codemirror_mode": {
    "name": "ipython",
    "version": 3
   },
   "file_extension": ".py",
   "mimetype": "text/x-python",
   "name": "python",
   "nbconvert_exporter": "python",
   "pygments_lexer": "ipython3",
   "version": "3.8.8"
  },
  "orig_nbformat": 4
 },
 "nbformat": 4,
 "nbformat_minor": 2
}
